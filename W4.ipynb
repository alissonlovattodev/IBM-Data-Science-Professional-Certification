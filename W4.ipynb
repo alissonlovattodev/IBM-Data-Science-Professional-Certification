{
 "cells": [
  {
   "cell_type": "markdown",
   "id": "9316edd1-0644-41d2-917f-cfa9ecc78410",
   "metadata": {},
   "source": [
    "# My Jupyter Notebook on IBM Watson Studio\n"
   ]
  },
  {
   "cell_type": "markdown",
   "id": "c4a0fec3-1cd3-4069-a87b-5e2867027f84",
   "metadata": {},
   "source": [
    "**Alisson Lovatto**\n",
    "\n",
    "Software Developer"
   ]
  },
  {
   "cell_type": "markdown",
   "id": "244962d7-6385-4859-973a-1dfbc8d24eff",
   "metadata": {},
   "source": [
    "*I am interested in Data Science because data is the new oil and, as in the past, manipulating these sources can give humanity a better future*"
   ]
  },
  {
   "cell_type": "markdown",
   "id": "2de81e3d-66da-43fd-a686-ec77c599fe13",
   "metadata": {},
   "source": [
    "### Below I am generating an array using the Numpy library"
   ]
  },
  {
   "cell_type": "code",
   "execution_count": 2,
   "id": "ef4d088f-fd78-4515-8b7b-cc43e669a20f",
   "metadata": {},
   "outputs": [
    {
     "name": "stdout",
     "output_type": "stream",
     "text": [
      "[0.9        0.91111111 0.92222222 0.93333333 0.94444444 0.95555556\n",
      " 0.96666667 0.97777778 0.98888889 1.        ]\n"
     ]
    }
   ],
   "source": [
    "import numpy as np\n",
    "arr = np.linspace(0.9,1,10)\n",
    "print(arr)"
   ]
  },
  {
   "cell_type": "markdown",
   "id": "cd833998-0a8b-4bdd-a0ac-57897cc6c8f0",
   "metadata": {},
   "source": [
    "> ## List of candidates for the 2022 World Cup:\n",
    ">\n",
    "> \n",
    "> 1. Brazil\n",
    "> 2. France\n",
    "> 3. Belgium\n",
    ">\n",
    "> * If you don't like it, send me a better order\n",
    "\n",
    "#### - Alisson Lovatto"
   ]
  },
  {
   "cell_type": "code",
   "execution_count": null,
   "id": "559cb389-53dd-4c9a-9e87-b619eac4da42",
   "metadata": {},
   "outputs": [],
   "source": []
  }
 ],
 "metadata": {
  "kernelspec": {
   "display_name": "Python 3 (ipykernel)",
   "language": "python",
   "name": "python3"
  },
  "language_info": {
   "codemirror_mode": {
    "name": "ipython",
    "version": 3
   },
   "file_extension": ".py",
   "mimetype": "text/x-python",
   "name": "python",
   "nbconvert_exporter": "python",
   "pygments_lexer": "ipython3",
   "version": "3.10.8"
  }
 },
 "nbformat": 4,
 "nbformat_minor": 5
}
